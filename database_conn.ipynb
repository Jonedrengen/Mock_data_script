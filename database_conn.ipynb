{
 "cells": [
  {
   "cell_type": "code",
   "execution_count": null,
   "metadata": {},
   "outputs": [],
   "source": [
    "import pyodbc as odbc\n",
    "\n",
    "\n",
    "#connection string components\n",
    "server = \"localhost\"\n",
    "database = \"mydb\"\n",
    "username = \"sa\"\n",
    "password = r\"N\\VHs8*DJV\"\n",
    "driver = \"/opt/homebrew/lib/libmsodbcsql.18.dylib\"\n",
    "\n",
    "\n",
    "\n",
    "#connection string. Using trustcertificate=yes because I'm using a self-signed certificate\n",
    "connection_string = f\"DRIVER={driver};SERVER={server};DATABASE={database};UID={username};PWD={password};TrustServerCertificate=yes\"\n",
    "\n",
    "#making the connection using a try-except block\n",
    "try:\n",
    "    conn = odbc.connect(connection_string)\n",
    "    print(\"Connected successfully!\")\n",
    "except odbc.Error as ex:\n",
    "    print(\"Connection failed:\", ex)"
   ]
  },
  {
   "cell_type": "code",
   "execution_count": null,
   "metadata": {},
   "outputs": [],
   "source": [
    "#this is an example of how to use the connection object to execute a query\n",
    "\n",
    "#creating a cursor object from the connection object, because the cursor object has the execute method\n",
    "cursor = conn.cursor()\n",
    "\n",
    "# executing a query that gets some of the data from the sample table\n",
    "cursor.execute(\"SELECT CPR, SampleID, SampleDate FROM mydb.test_api_schema.Sample_data\")\n",
    "\n",
    "#to get the results from the query, we use the fetchall method on the cursor object. This returns a list of tuples\n",
    "result = cursor.fetchall()\n",
    "if result:\n",
    "    print(result)\n",
    "\n",
    "# we then close the connection, because we don't need it anymore and it's good practice\n",
    "cursor.close()\n",
    "conn.close()"
   ]
  },
  {
   "cell_type": "code",
   "execution_count": null,
   "metadata": {},
   "outputs": [],
   "source": []
  }
 ],
 "metadata": {
  "kernelspec": {
   "display_name": "env",
   "language": "python",
   "name": "python3"
  },
  "language_info": {
   "codemirror_mode": {
    "name": "ipython",
    "version": 3
   },
   "file_extension": ".py",
   "mimetype": "text/x-python",
   "name": "python",
   "nbconvert_exporter": "python",
   "pygments_lexer": "ipython3",
   "version": "3.11.5"
  },
  "orig_nbformat": 4
 },
 "nbformat": 4,
 "nbformat_minor": 2
}
