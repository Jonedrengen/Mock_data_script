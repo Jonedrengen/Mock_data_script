{
 "cells": [
  {
   "cell_type": "markdown",
   "metadata": {},
   "source": [
    "This file is the connector to the database. It contains the functions to connect to the database, to execute queries and to close the connection."
   ]
  },
  {
   "cell_type": "code",
   "execution_count": 24,
   "metadata": {},
   "outputs": [],
   "source": [
    "# importing pymssql module to connect to the database\n",
    "import pymssql\n"
   ]
  },
  {
   "cell_type": "code",
   "execution_count": 25,
   "metadata": {},
   "outputs": [
    {
     "ename": "OperationalError",
     "evalue": "(18456, b\"Login failed for user 'sa'.DB-Lib error message 20018, severity 14:\\nGeneral SQL Server error: Check messages from the SQL Server\\nDB-Lib error message 20002, severity 9:\\nAdaptive Server connection failed (localhost)\\nDB-Lib error message 20002, severity 9:\\nAdaptive Server connection failed (localhost)\\n\")",
     "output_type": "error",
     "traceback": [
      "\u001b[0;31m---------------------------------------------------------------------------\u001b[0m",
      "\u001b[0;31mMSSQLDatabaseException\u001b[0m                    Traceback (most recent call last)",
      "File \u001b[0;32msrc/pymssql/_pymssql.pyx:646\u001b[0m, in \u001b[0;36mpymssql._pymssql.connect\u001b[0;34m()\u001b[0m\n",
      "File \u001b[0;32msrc/pymssql/_mssql.pyx:2108\u001b[0m, in \u001b[0;36mpymssql._mssql.connect\u001b[0;34m()\u001b[0m\n",
      "File \u001b[0;32msrc/pymssql/_mssql.pyx:700\u001b[0m, in \u001b[0;36mpymssql._mssql.MSSQLConnection.__init__\u001b[0;34m()\u001b[0m\n",
      "File \u001b[0;32msrc/pymssql/_mssql.pyx:1817\u001b[0m, in \u001b[0;36mpymssql._mssql.maybe_raise_MSSQLDatabaseException\u001b[0;34m()\u001b[0m\n",
      "File \u001b[0;32msrc/pymssql/_mssql.pyx:1834\u001b[0m, in \u001b[0;36mpymssql._mssql.raise_MSSQLDatabaseException\u001b[0;34m()\u001b[0m\n",
      "\u001b[0;31mMSSQLDatabaseException\u001b[0m: (18456, b\"Login failed for user 'sa'.DB-Lib error message 20018, severity 14:\\nGeneral SQL Server error: Check messages from the SQL Server\\nDB-Lib error message 20002, severity 9:\\nAdaptive Server connection failed (localhost)\\nDB-Lib error message 20002, severity 9:\\nAdaptive Server connection failed (localhost)\\n\")",
      "\nDuring handling of the above exception, another exception occurred:\n",
      "\u001b[0;31mOperationalError\u001b[0m                          Traceback (most recent call last)",
      "\u001b[1;32m/Users/jonsztukslotved/Documents/GitHub/Mock_data_script/Database_connector.ipynb Cell 3\u001b[0m line \u001b[0;36m3\n\u001b[1;32m      <a href='vscode-notebook-cell:/Users/jonsztukslotved/Documents/GitHub/Mock_data_script/Database_connector.ipynb#W5sZmlsZQ%3D%3D?line=0'>1</a>\u001b[0m \u001b[39m#establinsing connection to the database\u001b[39;00m\n\u001b[0;32m----> <a href='vscode-notebook-cell:/Users/jonsztukslotved/Documents/GitHub/Mock_data_script/Database_connector.ipynb#W5sZmlsZQ%3D%3D?line=2'>3</a>\u001b[0m conn \u001b[39m=\u001b[39m pymssql\u001b[39m.\u001b[39;49mconnect(\n\u001b[1;32m      <a href='vscode-notebook-cell:/Users/jonsztukslotved/Documents/GitHub/Mock_data_script/Database_connector.ipynb#W5sZmlsZQ%3D%3D?line=3'>4</a>\u001b[0m     server \u001b[39m=\u001b[39;49m \u001b[39m'\u001b[39;49m\u001b[39mlocalhost\u001b[39;49m\u001b[39m'\u001b[39;49m,\n\u001b[1;32m      <a href='vscode-notebook-cell:/Users/jonsztukslotved/Documents/GitHub/Mock_data_script/Database_connector.ipynb#W5sZmlsZQ%3D%3D?line=4'>5</a>\u001b[0m     user \u001b[39m=\u001b[39;49m \u001b[39m'\u001b[39;49m\u001b[39msa\u001b[39;49m\u001b[39m'\u001b[39;49m,\n\u001b[1;32m      <a href='vscode-notebook-cell:/Users/jonsztukslotved/Documents/GitHub/Mock_data_script/Database_connector.ipynb#W5sZmlsZQ%3D%3D?line=5'>6</a>\u001b[0m     password \u001b[39m=\u001b[39;49m \u001b[39m'\u001b[39;49m\u001b[39mN\u001b[39;49m\u001b[39m\\\u001b[39;49m\u001b[39mVHs8*DJV\u001b[39;49m\u001b[39m'\u001b[39;49m,\n\u001b[1;32m      <a href='vscode-notebook-cell:/Users/jonsztukslotved/Documents/GitHub/Mock_data_script/Database_connector.ipynb#W5sZmlsZQ%3D%3D?line=6'>7</a>\u001b[0m     database \u001b[39m=\u001b[39;49m \u001b[39m'\u001b[39;49m\u001b[39mSQLServer-test\u001b[39;49m\u001b[39m'\u001b[39;49m\n\u001b[1;32m      <a href='vscode-notebook-cell:/Users/jonsztukslotved/Documents/GitHub/Mock_data_script/Database_connector.ipynb#W5sZmlsZQ%3D%3D?line=7'>8</a>\u001b[0m )\n\u001b[1;32m     <a href='vscode-notebook-cell:/Users/jonsztukslotved/Documents/GitHub/Mock_data_script/Database_connector.ipynb#W5sZmlsZQ%3D%3D?line=9'>10</a>\u001b[0m cursor \u001b[39m=\u001b[39m conn\u001b[39m.\u001b[39mcursor()\n",
      "File \u001b[0;32msrc/pymssql/_pymssql.pyx:652\u001b[0m, in \u001b[0;36mpymssql._pymssql.connect\u001b[0;34m()\u001b[0m\n",
      "\u001b[0;31mOperationalError\u001b[0m: (18456, b\"Login failed for user 'sa'.DB-Lib error message 20018, severity 14:\\nGeneral SQL Server error: Check messages from the SQL Server\\nDB-Lib error message 20002, severity 9:\\nAdaptive Server connection failed (localhost)\\nDB-Lib error message 20002, severity 9:\\nAdaptive Server connection failed (localhost)\\n\")"
     ]
    }
   ],
   "source": [
    "#establinsing connection to the database\n",
    "\n",
    "conn = pymssql.connect(\n",
    "    server = 'localhost',\n",
    "    user = 'sa',\n",
    "    password = 'N\\VHs8*DJV',\n",
    "    database = 'SQLServer-test'\n",
    ")\n",
    "\n",
    "cursor = conn.cursor()"
   ]
  }
 ],
 "metadata": {
  "kernelspec": {
   "display_name": "env",
   "language": "python",
   "name": "python3"
  },
  "language_info": {
   "codemirror_mode": {
    "name": "ipython",
    "version": 3
   },
   "file_extension": ".py",
   "mimetype": "text/x-python",
   "name": "python",
   "nbconvert_exporter": "python",
   "pygments_lexer": "ipython3",
   "version": "3.11.5"
  },
  "orig_nbformat": 4
 },
 "nbformat": 4,
 "nbformat_minor": 2
}
