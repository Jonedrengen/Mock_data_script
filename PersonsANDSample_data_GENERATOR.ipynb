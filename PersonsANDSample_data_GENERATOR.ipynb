{
 "cells": [
  {
   "cell_type": "markdown",
   "metadata": {},
   "source": [
    "This is a generator file, that creates 2 csv files, with 200 rows of data each.\n",
    "There 2 csv files are: Persons_data.csv and Sample_data.csv\n",
    "They CPR columns are the same, so they can be joined on that column."
   ]
  },
  {
   "cell_type": "code",
   "execution_count": 4,
   "metadata": {},
   "outputs": [],
   "source": [
    "#importing all necessary libraries and creating an instance of Faker\n",
    "from faker import Faker\n",
    "from faker.providers import BaseProvider\n",
    "import csv\n",
    "\n",
    "fake = Faker()"
   ]
  },
  {
   "cell_type": "code",
   "execution_count": 11,
   "metadata": {},
   "outputs": [
    {
     "name": "stdout",
     "output_type": "stream",
     "text": [
      "['0903697994', '2804835756', '0907813432', '2406692988', '0911574895', '1007947383', '2911695758', '2908797916', '1305009939', '3005779880', '0511368626', '1702750892', '3103717785', '0902452423', '0310403530', '1307320672', '2303732532', '0704856526', '1107935868', '1105703606', '2608985331', '0411831511', '0403818706', '0305326729', '1108689690', '2711842208', '0306313139', '1906787414', '1412722424', '2006747523', '0408673151', '2008702386', '0301789987', '1309708415', '1808940659', '2412412813', '2010848274', '2004595316', '1906868851', '1211971500', '1509468730', '0911316197', '1910846964', '0111552930', '1006040985', '3009538988', '1805854318', '1910498234', '1709693874', '1807983915', '0405848537', '1602504492', '1012997895', '2103540504', '2404854754', '1310953163', '0707483562', '0308633545', '0211428740', '1301033815', '3005037671', '2103795258', '2612535804', '3108677342', '0509643344', '2009763748', '2504584140', '0505653529', '2802288664', '1206849809', '2709682512', '2503640943', '0306745821', '0904965938', '2601359182', '0408846180', '2206546204', '2607660441', '1608006817', '1601483751', '0905935794', '1403717347', '0708343466', '2306549694', '1909766215', '1709057501', '2705928446', '0510897937', '0208750709', '0407375839', '1311817719', '2903886242', '2209815387', '1212957131', '1708987451', '2507292390', '1911889299', '1805910620', '1511353873', '1707539182', '2010990897', '0408469600', '1511048189', '2907432359', '0806988699', '3009805877', '1211556657', '2810555462', '1906825746', '3001523491', '1901588426', '2605335225', '0105744913', '0602369682', '1401579902', '1907884888', '1706429160', '1006512150', '2801334786', '1009981542', '2311769524', '1508018264', '1208780520', '0805512545', '2305556490', '1304968410', '1007799994', '2711792576', '2005003678', '3005566550', '2711968840', '1503015725', '2009006529', '1308911333', '1105473119', '2207537380', '2905705798', '1011274573', '3001405832', '0311348310', '2703463738', '0208508636', '1004730721', '2802500592', '0904956555', '1607701799', '2312298579', '0805842535', '0103513105', '2708639809', '1203011149', '2103650213', '1001431420', '2203417347', '3110744108', '2804998387', '0303367160', '2209640610', '1511287226', '2005452706', '0604831450', '1606579839', '2608516337', '1311397948', '1009728724', '1301594575', '1308308101', '1901917200', '1607519258', '1008622669', '1611494673', '0811905429', '0606006405', '2408826857', '1403583471', '2712396768', '3108575993', '0701787813', '2107461515', '1912304479', '0610396530', '2309281184', '2301616109', '2109594153', '2510930603', '2606040548', '2701969539', '0805330316', '1405012661', '0503857737', '1411578346', '0308058645', '2208717805', '2310867100', '1503291775', '1509051166', '2210892753', '1902605820', '2707567720', '2606776146']\n"
     ]
    }
   ],
   "source": [
    "#generating 200 rows of CPR numbers\n",
    "from CPR_provider import CPR_provider\n",
    "\n",
    "CPR_provider_instance = CPR_provider(fake)\n",
    "\n",
    "# creating a list of 200 CPR numbers\n",
    "def create_cpr_numbers():\n",
    "    # empty list\n",
    "    cpr_numbers = []\n",
    "    # looping 200 times and appendinig the cpr numbers generated, to a list\n",
    "    for i in range(200):\n",
    "        cpr_numbers.append(CPR_provider_instance.cpr())\n",
    "    return cpr_numbers\n",
    "\n",
    "# calling the function and storing the list in a variable\n",
    "cpr_numbers = create_cpr_numbers()\n",
    "print(cpr_numbers)\n"
   ]
  },
  {
   "cell_type": "code",
   "execution_count": 64,
   "metadata": {},
   "outputs": [],
   "source": [
    "# Generating Persons_data.csv\n",
    "\n",
    "# importing to create the Persons data\n",
    "from Gender_provider import gender\n",
    "from Region_provider import Region_provider\n",
    "from PhoneNumber_provider import Phone_number\n",
    "\n",
    "#creating the instances of the classes \n",
    "Gender_provider_instance = gender()\n",
    "PhoneNumber_provider_instance = Phone_number()\n",
    "Region_provider_instance = Region_provider(fake)\n",
    "\n",
    "# generating the Persons data and storing it in a tuple\n",
    "def generate_person(cpr):\n",
    "    # Generating random data for the persons table\n",
    "    Gender = Gender_provider_instance.gender_determination(cpr) # <- determines gender based on the cpr number (10th number)\n",
    "    Region = Region_provider_instance.region()\n",
    "    Phone_number = PhoneNumber_provider_instance.number()\n",
    "\n",
    "    Persons_tuple = (cpr, Gender, Region, Phone_number)\n",
    "    \n",
    "    return Persons_tuple\n",
    "\n",
    "#result = generate_person()\n",
    "#print(result)\n",
    "\n",
    "def create_Persons_csv():\n",
    "    #first we open the file in write mode \"w\"\n",
    "    with open(\"Persons_data.csv\", \"w\", newline=\"\") as csvfile:\n",
    "        #we then create a writer object\n",
    "        writer = csv.writer(csvfile)\n",
    "        #writing the header row\n",
    "        writer.writerow([\"CPR\", \"Gender\", \"Region\", \"Phone_number\"])\n",
    "        #now we call generate_person on the list of cprs to generate a file based on that list\n",
    "        for cpr in cpr_numbers:\n",
    "            # for every cpr number in cpr_numbers, the generatie_person() function is applied\n",
    "            row_data = generate_person(cpr)\n",
    "            #writing every row\n",
    "            writer.writerow(row_data)\n",
    "\n",
    "#creating the csv file\n",
    "create_Persons_csv()\n",
    "\n",
    "    \n"
   ]
  },
  {
   "cell_type": "code",
   "execution_count": 65,
   "metadata": {},
   "outputs": [],
   "source": [
    "# Generating Sample_data.csv\n",
    "\n",
    "#importing the classes\n",
    "from sample_data_GENERATOR import random_id_provider , random_date_provider, random_host_provider, random_Ct_value_provider\n",
    "\n",
    "#creating the instances for Sample data generation, using the faker instance, because the classes use the faker library\n",
    "random_id_instance = random_id_provider(fake)\n",
    "random_date_instance = random_date_provider(fake)\n",
    "random_host_instance = random_host_provider(fake)\n",
    "random_Ct_instance = random_Ct_value_provider(fake)\n",
    "\n",
    "def generate_sample(cpr):\n",
    "    random_uuid = random_id_instance.create_uuid()\n",
    "    random_date = random_date_instance.create_date()\n",
    "    random_host = random_host_instance.create_host()\n",
    "    Random_Ct = random_Ct_instance.create_Ct_val()\n",
    "\n",
    "    Sample_tuple = (cpr, random_uuid, random_date, random_host, Random_Ct)\n",
    "\n",
    "    return Sample_tuple\n",
    "\n",
    "def generate_Sample_csv():\n",
    "    #first I open the csv file in write mode\n",
    "    with open(\"Sample_data.csv\", \"w\", newline=\"\") as csvfile:\n",
    "        #using the writer function from the csv module, to create a writer object for the csvfile\n",
    "        writer = csv.writer(csvfile)\n",
    "        # Using the writer object to write the header row in the csv file\n",
    "        writer.writerow([\"SampleID\", \"CPR\", \"SampleDate\", \"Host\", \"Ct\"])\n",
    "        # now we use the generate_sample() function, to generate a row for each cpr number\n",
    "        for cpr in cpr_numbers:\n",
    "            # for every cpr in cpr_numbers, the generate_sample() function with the cpr as argument will be run to create a tuple (row)\n",
    "            row_data = generate_sample(cpr)\n",
    "            # for every cpr in cpr_numbers, the writer object will write a new row in the csv file\n",
    "            writer.writerow(row_data)\n",
    "        \n",
    "# creating the Sample csv file\n",
    "generate_Sample_csv()\n",
    "        \n",
    "\n"
   ]
  },
  {
   "cell_type": "markdown",
   "metadata": {},
   "source": []
  },
  {
   "cell_type": "markdown",
   "metadata": {},
   "source": []
  }
 ],
 "metadata": {
  "kernelspec": {
   "display_name": "base",
   "language": "python",
   "name": "python3"
  },
  "language_info": {
   "codemirror_mode": {
    "name": "ipython",
    "version": 3
   },
   "file_extension": ".py",
   "mimetype": "text/x-python",
   "name": "python",
   "nbconvert_exporter": "python",
   "pygments_lexer": "ipython3",
   "version": "3.11.5"
  },
  "orig_nbformat": 4
 },
 "nbformat": 4,
 "nbformat_minor": 2
}
