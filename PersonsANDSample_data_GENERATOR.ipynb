{
 "cells": [
  {
   "cell_type": "markdown",
   "metadata": {},
   "source": [
    "This is a generator file, that creates 2 csv files, with 200 rows of data each.\n",
    "There 2 csv files are: Persons_data.csv and Sample_data.csv\n",
    "They CPR columns are the same, so they can be joined on that column."
   ]
  },
  {
   "cell_type": "code",
   "execution_count": 2,
   "metadata": {},
   "outputs": [],
   "source": [
    "#importing all necessary libraries and creating an instance of Faker\n",
    "from faker import Faker\n",
    "from faker.providers import BaseProvider\n",
    "import csv\n",
    "\n",
    "fake = Faker()"
   ]
  },
  {
   "cell_type": "code",
   "execution_count": 3,
   "metadata": {},
   "outputs": [
    {
     "name": "stdout",
     "output_type": "stream",
     "text": [
      "['0411318521', '0604611813', '2805988359', '1505911874', '1608867382', '2406921233', '1407888206', '0505590767', '0104984235', '2306016660', '1206627191', '1305541203', '0710037648', '0804548944', '1507311111', '2811781610', '0210638908', '0712286520', '2910865502', '3103457471', '0805597661', '1012521676', '2603874719', '0606046163', '2003303654', '1604461895', '1103994826', '1709962982', '2006317530', '3008346340', '1907558915', '2508308568', '0105493508', '1405515256', '1809003816', '1309825545', '0307645770', '1012531596', '0606438841', '1807402959', '1702541869', '2406653590', '1912281801', '2412029927', '2905354137', '2204283414', '3011712103', '0209367981', '2204850293', '1205045328', '1805533770', '1212586641', '2207993161', '0608910949', '0707500413', '0607831213', '0912438939', '2801999640', '0406548397', '0702898835', '1506742917', '2004814255', '1009929764', '2307854127', '2107600411', '0612722143', '2708788914', '1711486419', '1806512592', '0101711882', '1906779689', '0910890100', '0807345511', '0504480992', '2311292135', '2801957223', '1511652767', '1602302423', '3112317898', '1108769443', '1202566280', '1511474707', '1210772873', '1407788622', '1906785488', '2701786219', '1508816674', '0705435404', '2201864807', '1601288964', '1101718869', '0512738661', '2709654572', '1307823589', '1005482967', '1811513126', '1806023785', '3112608323', '3009441619', '1312860627', '2903783103', '2411516992', '1009685573', '2008742220', '2404558509', '1208515500', '1908925582', '1709980826', '2404520139', '0310286867', '2312299432', '2008532196', '1902519652', '1507500499', '1903469591', '0307862404', '0212403531', '1711395354', '2002794945', '0402520383', '0912451822', '3112333514', '0411604611', '2010982117', '0102017969', '2608728514', '0301495702', '0602329724', '0105676874', '0211644207', '0902952758', '0911830649', '1009752852', '1212429585', '1908929523', '1205962414', '0911848391', '0709307592', '1010543621', '2011013575', '2010369158', '0404452767', '2104648310', '1611042856', '2211033332', '2701579928', '2505601405', '0303016405', '0308823896', '0409002678', '3108989477', '2402607342', '0611868586', '2408942843', '2012425414', '2908589801', '1908414437', '1912413459', '1805014142', '1107330173', '0110948170', '3012551963', '2406817917', '1705549304', '2012385404', '2303663361', '0104891160', '2904356555', '0403893254', '1006292962', '2104985775', '1802607427', '1910504531', '3001876875', '2901315732', '1403512721', '1502994868', '2401754372', '1104372165', '1406492758', '2212697150', '2403937705', '1706615805', '2701024791', '3110645175', '1606897710', '0810436823', '1303767814', '1402847408', '1806733394', '2608361624', '0112628304', '1403507279', '3108802906', '1208451141', '0306746563', '2901968159', '2612494479', '2209330792', '0201309186']\n"
     ]
    }
   ],
   "source": [
    "#generating 200 rows of CPR numbers\n",
    "from CPR_provider import CPR_provider\n",
    "\n",
    "CPR_provider_instance = CPR_provider(fake)\n",
    "\n",
    "# creating a list of 200 CPR numbers\n",
    "def create_cpr_numbers():\n",
    "    # empty list\n",
    "    cpr_numbers = []\n",
    "    # looping 200 times and appendinig the cpr numbers generated, to a list\n",
    "    for i in range(200):\n",
    "        cpr_numbers.append(CPR_provider_instance.cpr())\n",
    "    return cpr_numbers\n",
    "\n",
    "# calling the function and storing the list in a variable\n",
    "cpr_numbers = create_cpr_numbers()\n",
    "print(cpr_numbers)\n"
   ]
  },
  {
   "cell_type": "code",
   "execution_count": 4,
   "metadata": {},
   "outputs": [],
   "source": [
    "# Generating Persons_data.csv\n",
    "\n",
    "# importing to create the Persons data\n",
    "from Gender_provider import gender\n",
    "from Region_provider import Region_provider\n",
    "from PhoneNumber_provider import Phone_number\n",
    "\n",
    "#creating the instances of the classes \n",
    "Gender_provider_instance = gender()\n",
    "PhoneNumber_provider_instance = Phone_number()\n",
    "Region_provider_instance = Region_provider(fake)\n",
    "\n",
    "# generating the Persons data and storing it in a tuple\n",
    "def generate_person(cpr):\n",
    "    # Generating random data for the persons table\n",
    "    Gender = Gender_provider_instance.gender_determination(cpr) # <- determines gender based on the cpr number (10th number)\n",
    "    Region = Region_provider_instance.region()\n",
    "    Phone_number = PhoneNumber_provider_instance.number()\n",
    "\n",
    "    Persons_tuple = (cpr, Phone_number, Region, Gender)\n",
    "    \n",
    "    return Persons_tuple\n",
    "\n",
    "#result = generate_person()\n",
    "#print(result)\n",
    "\n",
    "def create_Persons_csv():\n",
    "    #first we open the file in write mode \"w\"\n",
    "    with open(\"Persons_data.csv\", \"w\", newline=\"\") as csvfile:\n",
    "        #we then create a writer object\n",
    "        writer = csv.writer(csvfile)\n",
    "        #writing the header row\n",
    "        writer.writerow([\"CPR\", \"Phone_number\", \"Region\", \"Gender\"])\n",
    "        #now we call generate_person on the list of cprs to generate a file based on that list\n",
    "        for cpr in cpr_numbers:\n",
    "            # for every cpr number in cpr_numbers, the generatie_person() function is applied\n",
    "            row_data = generate_person(cpr)\n",
    "            #writing every row\n",
    "            writer.writerow(row_data)\n",
    "\n",
    "#creating the csv file\n",
    "create_Persons_csv()\n",
    "\n",
    "    \n"
   ]
  },
  {
   "cell_type": "code",
   "execution_count": 10,
   "metadata": {},
   "outputs": [],
   "source": [
    "# Generating Sample_data.csv\n",
    "\n",
    "#importing the classes\n",
    "from sample_data_GENERATOR import random_id_provider , random_date_provider, random_host_provider, random_Ct_value_provider\n",
    "\n",
    "#creating the instances for Sample data generation, using the faker instance, because the classes use the faker library\n",
    "random_id_instance = random_id_provider(fake)\n",
    "random_date_instance = random_date_provider(fake)\n",
    "random_host_instance = random_host_provider(fake)\n",
    "random_Ct_instance = random_Ct_value_provider(fake)\n",
    "\n",
    "def generate_sample(cpr):\n",
    "    random_uuid = random_id_instance.create_uuid()\n",
    "    random_date = random_date_instance.create_date()\n",
    "    random_host = random_host_instance.create_host()\n",
    "    Random_Ct = random_Ct_instance.create_Ct_val()\n",
    "\n",
    "    Sample_tuple = (random_uuid, cpr, random_date, random_host, Random_Ct)\n",
    "\n",
    "    return Sample_tuple\n",
    "\n",
    "def generate_Sample_csv():\n",
    "    #first I open the csv file in write mode\n",
    "    with open(\"Sample_data.csv\", \"w\", newline=\"\") as csvfile:\n",
    "        #using the writer function from the csv module, to create a writer object for the csvfile\n",
    "        writer = csv.writer(csvfile)\n",
    "        # Using the writer object to write the header row in the csv file\n",
    "        writer.writerow([\"SampleID\", \"CPR\", \"SampleDate\", \"Host\", \"Ct\"])\n",
    "        # now we use the generate_sample() function, to generate a row for each cpr number\n",
    "        for cpr in cpr_numbers:\n",
    "            # for every cpr in cpr_numbers, the generate_sample() function with the cpr as argument will be run to create a tuple (row)\n",
    "            row_data = generate_sample(cpr)\n",
    "            # for every cpr in cpr_numbers, the writer object will write a new row in the csv file\n",
    "            writer.writerow(row_data)\n",
    "        \n",
    "# creating the Sample csv file\n",
    "generate_Sample_csv()\n",
    "        \n",
    "\n"
   ]
  },
  {
   "cell_type": "markdown",
   "metadata": {},
   "source": []
  },
  {
   "cell_type": "markdown",
   "metadata": {},
   "source": []
  }
 ],
 "metadata": {
  "kernelspec": {
   "display_name": "base",
   "language": "python",
   "name": "python3"
  },
  "language_info": {
   "codemirror_mode": {
    "name": "ipython",
    "version": 3
   },
   "file_extension": ".py",
   "mimetype": "text/x-python",
   "name": "python",
   "nbconvert_exporter": "python",
   "pygments_lexer": "ipython3",
   "version": "3.11.5"
  },
  "orig_nbformat": 4
 },
 "nbformat": 4,
 "nbformat_minor": 2
}
