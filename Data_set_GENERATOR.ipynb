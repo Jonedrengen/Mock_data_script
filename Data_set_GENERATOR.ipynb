{
 "cells": [
  {
   "cell_type": "markdown",
   "metadata": {},
   "source": [
    "This is a generator file, that creates 2 csv files, with 200 rows of data each. (can be changed)\n",
    "There 2 csv files are: Persons_data.csv and Sample_data.csv\n",
    "They CPR columns are the same, so they can be joined on that column."
   ]
  },
  {
   "cell_type": "code",
   "execution_count": 13,
   "metadata": {},
   "outputs": [],
   "source": [
    "#importing all necessary libraries and creating an instance of Faker\n",
    "from faker import Faker\n",
    "from faker.providers import BaseProvider\n",
    "import csv\n",
    "\n",
    "fake = Faker()"
   ]
  },
  {
   "cell_type": "code",
   "execution_count": 14,
   "metadata": {},
   "outputs": [],
   "source": [
    "# Importing CPR_provider for generating CPR numbers\n",
    "from Persons_data_GENERATOR import CPR_provider\n",
    "\n",
    "# Creating an instance of CPR_provider\n",
    "CPR_provider_instance = CPR_provider(fake)\n",
    "\n",
    "def create_cpr_numbers(length=50):\n",
    "    \"\"\"\n",
    "    Function to generate a list of CPR numbers.\n",
    "\n",
    "    Args:\n",
    "    - length (int): Number of CPR numbers to generate. Default is 50.\n",
    "\n",
    "    Returns:\n",
    "    - list: List containing the generated CPR numbers.\n",
    "    \"\"\"\n",
    "    # Initialize an empty list to hold the generated CPR numbers\n",
    "    cpr_numbers = []\n",
    "\n",
    "    # Loop 'length' times to generate the desired number of CPR numbers\n",
    "    for i in range(length):\n",
    "        cpr_numbers.append(CPR_provider_instance.cpr())\n",
    "\n",
    "    # Return the list of generated CPR numbers\n",
    "    return cpr_numbers\n",
    "\n"
   ]
  },
  {
   "cell_type": "code",
   "execution_count": 15,
   "metadata": {},
   "outputs": [],
   "source": [
    "# Importing necessary modules for generating person data\n",
    "from Persons_data_GENERATOR import gender, Region_provider, Phone_number\n",
    "\n",
    "# Creating instances of the imported classes\n",
    "Gender_provider_instance = gender()\n",
    "PhoneNumber_provider_instance = Phone_number()\n",
    "Region_provider_instance = Region_provider(fake)\n",
    "\n",
    "def generate_person(cpr):\n",
    "    \"\"\"\n",
    "    Function to generate personal data based on a given CPR.\n",
    "\n",
    "    Args:\n",
    "    - cpr (str): The CPR number based on which personal data is generated.\n",
    "\n",
    "    Returns:\n",
    "    - tuple: Tuple containing generated personal data.\n",
    "    \"\"\"\n",
    "    # Determine gender based on the CPR number (specifically the 10th digit)\n",
    "    Gender = Gender_provider_instance.gender_determination(cpr)\n",
    "    # Generate region data\n",
    "    Region = Region_provider_instance.region()\n",
    "    # Generate phone number data\n",
    "    Phone_number = PhoneNumber_provider_instance.number()\n",
    "\n",
    "    # Collate the generated data into a tuple\n",
    "    Persons_tuple = (cpr, Phone_number, Region, Gender)\n",
    "    \n",
    "    # Return the collated data\n",
    "    return Persons_tuple\n",
    "\n",
    "def create_Persons_csv(cpr_numbers, name):\n",
    "    \"\"\"\n",
    "    Function to create a CSV file containing personal data.\n",
    "\n",
    "    Args:\n",
    "    - cpr_numbers (list): List of CPR numbers for which personal data is to be generated.\n",
    "    - name (str): Name of the CSV file to be created.\n",
    "\n",
    "    Returns:\n",
    "    - None: Writes the generated data to a CSV file.\n",
    "    \"\"\"\n",
    "    # Open the CSV file in write mode\n",
    "    with open(name, \"w\", newline=\"\") as csvfile:\n",
    "        # Create a CSV writer object\n",
    "        writer = csv.writer(csvfile)\n",
    "        # Write the header row\n",
    "        writer.writerow([\"CPR\", \"Phone_number\", \"Region\", \"Gender\"])\n",
    "        # For each CPR number, generate personal data and write to the CSV\n",
    "        for cpr in cpr_numbers:\n",
    "            row_data = generate_person(cpr)\n",
    "            writer.writerow(row_data)\n"
   ]
  },
  {
   "cell_type": "code",
   "execution_count": 16,
   "metadata": {},
   "outputs": [],
   "source": [
    "# Generating Sample_data.csv\n",
    "\n",
    "#importing the classes\n",
    "from sample_data_GENERATOR import random_id_provider , random_date_provider, random_host_provider, random_Ct_value_provider\n",
    "\n",
    "#creating the instances for Sample data generation, using the faker instance, because the classes use the faker library\n",
    "random_id_instance = random_id_provider(fake)\n",
    "random_date_instance = random_date_provider(fake)\n",
    "random_host_instance = random_host_provider(fake)\n",
    "random_Ct_instance = random_Ct_value_provider(fake)\n",
    "\n",
    "def generate_sample(cpr):\n",
    "    random_uuid = random_id_instance.create_uuid()\n",
    "    random_date = random_date_instance.create_date()\n",
    "    random_host = random_host_instance.create_host()\n",
    "    Random_Ct = random_Ct_instance.create_Ct_val()\n",
    "\n",
    "    Sample_tuple = (random_uuid, cpr, random_date, random_host, Random_Ct)\n",
    "\n",
    "    return Sample_tuple\n",
    "\n",
    "def generate_Sample_csv(cpr_numbers, name):\n",
    "    #first I open the csv file in write mode\n",
    "    with open(name, \"w\", newline=\"\") as csvfile:\n",
    "        #using the writer function from the csv module, to create a writer object for the csvfile\n",
    "        writer = csv.writer(csvfile)\n",
    "        # Using the writer object to write the header row in the csv file\n",
    "        writer.writerow([\"SampleID\", \"CPR\", \"SampleDate\", \"Host\", \"Ct\"])\n",
    "        # now we use the generate_sample() function, to generate a row for each cpr number\n",
    "        for cpr in cpr_numbers:\n",
    "            # for every cpr in cpr_numbers, the generate_sample() function with the cpr as argument will be run to create a tuple (row)\n",
    "            row_data = generate_sample(cpr)\n",
    "            # for every cpr in cpr_numbers, the writer object will write a new row in the csv file\n",
    "            writer.writerow(row_data)\n",
    "\n",
    "\n",
    "        \n",
    "\n"
   ]
  },
  {
   "cell_type": "code",
   "execution_count": 18,
   "metadata": {},
   "outputs": [
    {
     "name": "stdout",
     "output_type": "stream",
     "text": [
      "50 CPR numbers created\n",
      "csv files created\n"
     ]
    }
   ],
   "source": [
    "# main() \n",
    "\"\"\" \n",
    "    This main function creates a new list of 50 CPR numbers (can be changed)\n",
    "    --> generates 2 csv files, based on those CPR numbers\n",
    "\n",
    "\"\"\"\n",
    "\n",
    "def main():\n",
    "    try:\n",
    "        cpr_numbers = create_cpr_numbers(50)\n",
    "        print(f'{len(cpr_numbers)} CPR numbers created')\n",
    "        create_Persons_csv(cpr_numbers, \"Persons.csv\")\n",
    "        generate_Sample_csv(cpr_numbers, \"Sample.csv\")\n",
    "        print(\"csv files created\")\n",
    "    except Exception as e:\n",
    "        print(f'an error occurred {e}')\n",
    "\n",
    "\n",
    "if __name__ == \"__main__\":\n",
    "    main()"
   ]
  },
  {
   "cell_type": "markdown",
   "metadata": {},
   "source": []
  },
  {
   "cell_type": "markdown",
   "metadata": {},
   "source": []
  }
 ],
 "metadata": {
  "kernelspec": {
   "display_name": "base",
   "language": "python",
   "name": "python3"
  },
  "language_info": {
   "codemirror_mode": {
    "name": "ipython",
    "version": 3
   },
   "file_extension": ".py",
   "mimetype": "text/x-python",
   "name": "python",
   "nbconvert_exporter": "python",
   "pygments_lexer": "ipython3",
   "version": "3.11.5"
  },
  "orig_nbformat": 4
 },
 "nbformat": 4,
 "nbformat_minor": 2
}
