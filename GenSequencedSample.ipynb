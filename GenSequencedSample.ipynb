{
 "cells": [
  {
   "cell_type": "code",
   "execution_count": 51,
   "metadata": {},
   "outputs": [],
   "source": [
    "#generate SequencedSampleID\n",
    "from faker import Faker\n",
    "from faker.providers import BaseProvider\n",
    "import random\n",
    "\n",
    "fake = Faker()\n",
    "\n",
    "class SequencedSampleProvider(BaseProvider):\n",
    "    def seq_sample_id(self) -> str:\n",
    "        rand_let = fake.random_letter().upper()\n",
    "        rand_numbers = str(fake.random_number(digits=10)).zfill(10) #zfill() is a method that fills the string with zeros on the left side, until it reaches the specified length\n",
    "        return f'SequencedSampleID-{rand_let}{rand_numbers}'\n",
    "fake.add_provider(SequencedSampleProvider) # add the provider to our faker object\n",
    "\n"
   ]
  },
  {
   "cell_type": "code",
   "execution_count": 52,
   "metadata": {},
   "outputs": [],
   "source": [
    "# generate SampleContent\n",
    "\n",
    "class GenSampleContent(BaseProvider):\n",
    "    def SampleContent(self):\n",
    "        \"\"\"\n",
    "        Generates a sample content value. \n",
    "        Currently supports only \"RNA\" but can be expanded in the future.\n",
    "        \"\"\"\n",
    "        return \"RNA\"\n",
    "fake.add_provider(GenSampleContent)\n"
   ]
  },
  {
   "cell_type": "code",
   "execution_count": 53,
   "metadata": {},
   "outputs": [],
   "source": [
    "# date of sequencing (Matching BatchDate)\n",
    "from datetime import datetime, timedelta\n",
    "from HelperFunctions import Fetch_column_from_csv\n",
    "from faker import Faker\n",
    "\n",
    "\n",
    "# this class generates dates that are withing the range of the BatchDate\n",
    "class SequenceDate(BaseProvider):\n",
    "    def gen_SeqDate(self):\n",
    "        \"\"\"\n",
    "        Generates a data that is within the range of the BatchDate\n",
    "        \"\"\"\n",
    "        BatchDate = Fetch_column_from_csv(\"Batch.csv\", \"BatchDate\") #using the helper function to fetch the BatchDate column from the BatchDate.csv file -> Fetch_column_from_csv(file_name, Column_name)\n",
    "        random_date_choice = random.choice(BatchDate) #randomly choosing a date from the BatchDate column\n",
    "        return random_date_choice\n",
    "fake.add_provider(SequenceDate) # add the provider to our faker object\n",
    "        \n",
    "\n",
    "\n"
   ]
  },
  {
   "cell_type": "code",
   "execution_count": 54,
   "metadata": {},
   "outputs": [],
   "source": [
    "# Quality column\n",
    "import random\n",
    "from faker import Faker\n",
    "from faker.providers import BaseProvider\n",
    "\n",
    "\n",
    "class Quality(BaseProvider):\n",
    "    def gen_Quality(self) -> str:\n",
    "        list_choices = [\"Fail\", \"LQ\", \"MQ\", \"HQ\"]\n",
    "        random_quality_choice = random.choice(list_choices) \n",
    "        return str(random_quality_choice)\n",
    "fake.add_provider(Quality) # add the provider to our faker object"
   ]
  },
  {
   "cell_type": "code",
   "execution_count": 55,
   "metadata": {},
   "outputs": [],
   "source": [
    "# Organism column\n",
    "import random\n",
    "from faker import Faker\n",
    "from faker.providers import BaseProvider\n",
    "\n",
    "\n",
    "class Organism(BaseProvider):\n",
    "    def gen_Organism(self) -> str:\n",
    "        list_choices = [\"Covid\", \"Legionella\", \"S.Aureus\", \"S.Epidermidis\"]\n",
    "        random_quality_choice = random.choice(list_choices) \n",
    "        return str(random_quality_choice)\n",
    "fake.add_provider(Organism) # add the provider to our faker object"
   ]
  },
  {
   "cell_type": "code",
   "execution_count": 56,
   "metadata": {},
   "outputs": [],
   "source": [
    "#generating OrganismIDs\n",
    "import random\n",
    "from faker import Faker\n",
    "from faker.providers import BaseProvider\n",
    "\n",
    "\n",
    "class OrganismID(BaseProvider):\n",
    "    def gen_OrganismID(self) -> str:\n",
    "        list_choices = [\"COVID\", \"LEGIO\", \"SAURE\", \"SEPID\"]\n",
    "        random_quality_choice = random.choice(list_choices)\n",
    "        Random_letters = \"\".join(fake.random_letters(length=5)).upper() #generating 5 random letters in upper case\n",
    "        Random_numbers = str(fake.random_number(digits=5)).zfill(5) #generating 5 random numbers and filling them with zeros on the left side and converting them to string from int\n",
    "        return f'{random_quality_choice}-{Random_letters}{Random_numbers}'\n",
    "fake.add_provider(OrganismID) # add the provider to our faker object\n"
   ]
  },
  {
   "cell_type": "code",
   "execution_count": 57,
   "metadata": {},
   "outputs": [],
   "source": [
    "#generating data for the SequencedSample.csv file\n",
    "from faker import Faker\n",
    "from faker.providers import BaseProvider\n",
    "\n",
    "\n",
    "def GenSequencedSample() -> tuple:\n",
    "    SequencedSampleID = fake.seq_sample_id()\n",
    "    SampleContent = fake.SampleContent()\n",
    "    SeqDate = fake.gen_SeqDate()\n",
    "    Quality = fake.gen_Quality()\n",
    "    Organism = fake.gen_Organism()\n",
    "    OrganismID = fake.gen_OrganismID()\n",
    "    data_tuple = (SequencedSampleID, SampleContent, SeqDate, Quality, Organism, OrganismID)\n",
    "    return data_tuple"
   ]
  },
  {
   "cell_type": "code",
   "execution_count": 58,
   "metadata": {},
   "outputs": [
    {
     "name": "stdout",
     "output_type": "stream",
     "text": [
      "SequencedSample.csv file generated successfully\n"
     ]
    }
   ],
   "source": [
    "# generating sequenced samples from the original dataset\n",
    "import csv\n",
    "import random\n",
    "from HelperFunctions import Fetch_column_from_csv\n",
    "\n",
    "def generate_SequencedSample_csv(sample_file, batch_file, name=\"SequencedSample.csv\"):\n",
    "\n",
    "    # Sequenced samples, has matching ids with batch and sample file, so I will use a helper function to extract those ids\n",
    "    SampleIDS = Fetch_column_from_csv(sample_file, \"SampleID\")\n",
    "    BatchIDS = Fetch_column_from_csv(batch_file, \"BatchID\")\n",
    "    \n",
    "    with open(name, \"w\") as csvfile:\n",
    "        writer = csv.writer(csvfile)\n",
    "        writer.writerow([\"SequencedSampleID\", \"SampleContent\", \"DateSequencing\", \"Quality\", \"Organism\", \"OrganismID\", \"SampleID\", \"BatchID\"])\n",
    "        for sample_ID in SampleIDS:\n",
    "            data_tuple = GenSequencedSample()\n",
    "            Batch_ID = random.choice(BatchIDS) # is a randomly chosen batch id, since there are multiple samples/sequencedsamples in one batch\n",
    "            writer.writerow(data_tuple + (sample_ID, Batch_ID))\n",
    "    print(f'{name} file generated successfully')\n",
    "\n",
    "generate_SequencedSample_csv(\"Sample_data.csv\", \"Batch.csv\", \"SequencedSample.csv\")\n",
    "\n",
    "    \n",
    "    \n",
    "\n",
    "\n"
   ]
  }
 ],
 "metadata": {
  "kernelspec": {
   "display_name": "env",
   "language": "python",
   "name": "python3"
  },
  "language_info": {
   "codemirror_mode": {
    "name": "ipython",
    "version": 3
   },
   "file_extension": ".py",
   "mimetype": "text/x-python",
   "name": "python",
   "nbconvert_exporter": "python",
   "pygments_lexer": "ipython3",
   "version": "3.11.5"
  },
  "orig_nbformat": 4
 },
 "nbformat": 4,
 "nbformat_minor": 2
}
