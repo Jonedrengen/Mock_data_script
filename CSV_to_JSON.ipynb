{
 "cells": [
  {
   "cell_type": "code",
   "execution_count": 1,
   "metadata": {},
   "outputs": [
    {
     "name": "stdout",
     "output_type": "stream",
     "text": [
      "Your csv file Persons_data.csv has been converted to a json file Persons.json\n",
      "Your csv file Sample_data.csv has been converted to a json file Sample.json\n",
      "Your csv file Batch.csv has been converted to a json file Batch.json\n",
      "Your csv file SequencedSample_data.csv has been converted to a json file SequencedSample.json\n",
      "Your csv file Covid_data.csv has been converted to a json file Covid.json\n"
     ]
    }
   ],
   "source": [
    "#importing libraries to read csv and convert to json\n",
    "import csv\n",
    "import json\n",
    "\n",
    "\n",
    "def convert_csv_to_json(csv_file_path, json_file_path):\n",
    "    \"\"\"\n",
    "    Convert a CSV file to a JSON file.\n",
    "\n",
    "    Parameters:\n",
    "    - csv_file_path (str): Path to the source CSV file. Defaults to 'Persons_data.csv'.\n",
    "    - json_file_path (str): Path to the destination JSON file. Defaults to 'Persons_data.json'.\n",
    "\n",
    "    Returns:\n",
    "    None\n",
    "\n",
    "    Raises:\n",
    "    Exception: If there's an error during the reading or writing process.\n",
    "\n",
    "    Example:\n",
    "    >>> convert_csv_to_json('sample.csv', 'sample.json')\n",
    "    Your csv file sample.csv has been converted to a json file sample.json\n",
    "    \"\"\"\n",
    "    # Creating an empty list to store the rows from the csv file\n",
    "    rows = []\n",
    "\n",
    "    try:\n",
    "        # Reading in the csv file and storing the rows from the file in the list\n",
    "        with open(csv_file_path, \"r\") as csv_file:\n",
    "            # Using DictReader() function to read in the csv file as a dictionary\n",
    "            csv_dict = csv.DictReader(csv_file)\n",
    "            \n",
    "            # A for loop to append every row into the rows list\n",
    "            for row in csv_dict:\n",
    "                rows.append(row)\n",
    "            \n",
    "        # Open a json file in write mode to write the rows into the json file\n",
    "        with open(json_file_path, \"w\") as json_file:\n",
    "            json.dump(rows, json_file)\n",
    "\n",
    "        print(f\"Your csv file {csv_file_path} has been converted to a json file {json_file_path}\")\n",
    "\n",
    "    except Exception as e:\n",
    "        print(f\"Something went wrong: {e}\")\n",
    "\n",
    "# specify arguments for needs\n",
    "convert_csv_to_json(\"Persons_data.csv\",\"Persons.json\")\n",
    "convert_csv_to_json(\"Sample_data.csv\",\"Sample.json\")\n",
    "convert_csv_to_json(\"Batch.csv\",\"Batch.json\")\n",
    "convert_csv_to_json(\"SequencedSample_data.csv\",\"SequencedSample.json\")\n",
    "convert_csv_to_json(\"Covid_data.csv\",\"Covid.json\")\n",
    "\n"
   ]
  }
 ],
 "metadata": {
  "kernelspec": {
   "display_name": "env",
   "language": "python",
   "name": "python3"
  },
  "language_info": {
   "codemirror_mode": {
    "name": "ipython",
    "version": 3
   },
   "file_extension": ".py",
   "mimetype": "text/x-python",
   "name": "python",
   "nbconvert_exporter": "python",
   "pygments_lexer": "ipython3",
   "version": "3.11.5"
  },
  "orig_nbformat": 4
 },
 "nbformat": 4,
 "nbformat_minor": 2
}
