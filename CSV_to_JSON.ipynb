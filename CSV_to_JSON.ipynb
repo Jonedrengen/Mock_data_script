{
 "cells": [
  {
   "cell_type": "code",
   "execution_count": 2,
   "metadata": {},
   "outputs": [
    {
     "name": "stdout",
     "output_type": "stream",
     "text": [
      "your csv file Sample_data.csv has been converted to a json file Sample_data.json\n"
     ]
    }
   ],
   "source": [
    "#importing libraries to read csv and convert to json\n",
    "import csv\n",
    "import json\n",
    "\n",
    "# defining path to csv and json files\n",
    "csv_file_path = 'Sample_data.csv'\n",
    "json_file_path = 'Sample_data.json'\n",
    "\n",
    "#creating an empty list to store the rows from the csv file\n",
    "rows = []\n",
    "\n",
    "# reading in the csv file and storing the rows from the file in the list\n",
    "# open the csv_file in read mode and saving that in csv_file variable\n",
    "with open(csv_file_path, \"r\") as csv_file:\n",
    "    \n",
    "    # Using DictReader() function to read in the csv file as a dictionary and saving it in csv_dict variable\n",
    "    # it takes every row and makes it into a dictionary, where the header row will act as a key\n",
    "    csv_dict = csv.DictReader(csv_file)\n",
    "    \n",
    "    # a for loop to append every row into the rows list\n",
    "    for row in csv_dict:\n",
    "        rows.append(row)\n",
    "\n",
    "\n",
    "# open a json file in write mode to write the rows into the json file\n",
    "with open(json_file_path, \"w\") as json_file:\n",
    "    # json.dump function takes 2 arguments a python object (list, dict) and writes it into a JSON formatted string and saves it in a file like object\n",
    "    json.dump(rows, json_file)\n",
    "\n",
    "print(f\"your csv file {csv_file_path} has been converted to a json file {json_file_path}\")"
   ]
  }
 ],
 "metadata": {
  "kernelspec": {
   "display_name": "env",
   "language": "python",
   "name": "python3"
  },
  "language_info": {
   "codemirror_mode": {
    "name": "ipython",
    "version": 3
   },
   "file_extension": ".py",
   "mimetype": "text/x-python",
   "name": "python",
   "nbconvert_exporter": "python",
   "pygments_lexer": "ipython3",
   "version": "3.11.5"
  },
  "orig_nbformat": 4
 },
 "nbformat": 4,
 "nbformat_minor": 2
}
