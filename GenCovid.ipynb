{
 "cells": [
  {
   "cell_type": "code",
   "execution_count": 27,
   "metadata": {},
   "outputs": [],
   "source": [
    "# generating covidID\n",
    "from faker import Faker\n",
    "from faker.providers import BaseProvider\n",
    "import random\n",
    "from HelperFunctions import *\n",
    "\n",
    "fake = Faker()\n",
    "\n",
    "\n",
    "#Class for generating covidID, based on the OrganismID column in the SequencedSample_data.csv\n",
    "class CovidIDProvider(BaseProvider):\n",
    "    def covidID(self):\n",
    "        fetched_IDs = Fetch_column_from_csv(\"SequencedSample_data.csv\", \"OrganismID\")\n",
    "        Covid_IDs = [ele for ele in fetched_IDs if ele.startswith(\"COVID-\")] # get all covid IDs\n",
    "        return Covid_IDs\n",
    "fake.add_provider(CovidIDProvider)\n"
   ]
  },
  {
   "cell_type": "code",
   "execution_count": 28,
   "metadata": {},
   "outputs": [],
   "source": [
    "# generating pango_designation and who_variant\n",
    "class PangoDesignation_WHO_Provider(BaseProvider):\n",
    "    \"\"\"\n",
    "    Provides a method to generate a random Pango lineage designation and its corresponding WHO variant name.\n",
    "    \n",
    "    Methods:\n",
    "    - pango_designation_and_WHOVariant: Returns a tuple with a Pango designation and its associated WHO variant.\n",
    "    \"\"\"\n",
    "    def pango_designation_and_WHOVariant(self) -> tuple:\n",
    "        \"\"\"\n",
    "        Generates and returns a random Pango lineage designation and its associated WHO variant name.\n",
    "        \n",
    "        Returns:\n",
    "        - tuple: (Pango designation, WHO variant name)\n",
    "        \"\"\"\n",
    "        variant_dict = {\n",
    "            \"B.1.1.7\" : \"Alpha\",\n",
    "            \"B.1.617.2\" : \"Delta\",\n",
    "            \"BA.1\" : \"Omicron\"\n",
    "        } \n",
    "        designation = random.choice(list(variant_dict)) \n",
    "        return designation, variant_dict[designation]\n",
    "fake.add_provider(PangoDesignation_WHO_Provider)"
   ]
  },
  {
   "cell_type": "code",
   "execution_count": 29,
   "metadata": {},
   "outputs": [],
   "source": [
    "# generating QCscore\n",
    "\n",
    "class QCscoreProvider(BaseProvider):\n",
    "    def QCscore(self):\n",
    "        return random.choice([\"Mid\", \"High\"])\n",
    "fake.add_provider(QCscoreProvider)\n",
    "\n",
    "\n",
    "\n",
    "        "
   ]
  },
  {
   "cell_type": "code",
   "execution_count": 30,
   "metadata": {},
   "outputs": [],
   "source": [
    "#generating covid data tuple (redundant)\n",
    "\n",
    "def covid_data(covidID):\n",
    "    \"\"\"\n",
    "    Generates a tuple with covid data.\n",
    "    \n",
    "    Returns:\n",
    "    - tuple: (covidID, pango_designation, who_variant, QCscore)\n",
    "    \"\"\"\n",
    "    covidID = fake.covidID()\n",
    "    pango_designation, who_variant = fake.pango_designation_and_WHOVariant()\n",
    "    QCscore = fake.QCscore()\n",
    "    return covidID, pango_designation, who_variant, QCscore"
   ]
  },
  {
   "cell_type": "code",
   "execution_count": 42,
   "metadata": {},
   "outputs": [
    {
     "name": "stdout",
     "output_type": "stream",
     "text": [
      "['COVID-CDEFK78010', 'COVID-PEGQV68580', 'COVID-VVSGQ39438', 'COVID-CZMWI27041', 'COVID-YIHRV00395', 'COVID-JXDVW03629', 'COVID-QIVTP88157', 'COVID-EXGOG28692', 'COVID-TNSXM40476', 'COVID-QAHQB05441', 'COVID-BQWGG00984', 'COVID-BIXFN23236', 'COVID-ELPUD53198']\n",
      "Covid_data.csv file generated successfully\n"
     ]
    }
   ],
   "source": [
    "#generating csv file with covid data\n",
    "import csv\n",
    "from HelperFunctions import * # to get the column with organismIDs from SequencedSample_data.csv\n",
    "# here we generate the tuple inside the function and write it to the csv file, because it dont fucking work otherwise\n",
    "\n",
    "\n",
    "def generate_covid_data_csv(name = \"Covid_data.csv\"):\n",
    "    \n",
    "    Covid_IDs = fake.covidID()\n",
    "\n",
    "    with open(name, 'w') as csvfile:\n",
    "        writer = csv.writer(csvfile) #create writer object on csvfile\n",
    "        writer.writerow([\"CovidID\", \"Pango_designation\", \"WhoVariant\", \"QcScore\"])\n",
    "        for covid_id in Covid_IDs:\n",
    "            pango_designation, who_variant = fake.pango_designation_and_WHOVariant() #pango_designation and who_variant are dependent on each other\n",
    "            QCscore = fake.QCscore()\n",
    "            data_tuple = (covid_id, pango_designation, who_variant, QCscore)\n",
    "            writer.writerow(data_tuple)\n",
    "\n",
    "    print(f'{name} file generated successfully')\n",
    "\n",
    "#generate_covid_data_csv()\n",
    "\n"
   ]
  }
 ],
 "metadata": {
  "kernelspec": {
   "display_name": "env",
   "language": "python",
   "name": "python3"
  },
  "language_info": {
   "codemirror_mode": {
    "name": "ipython",
    "version": 3
   },
   "file_extension": ".py",
   "mimetype": "text/x-python",
   "name": "python",
   "nbconvert_exporter": "python",
   "pygments_lexer": "ipython3",
   "version": "3.11.5"
  },
  "orig_nbformat": 4
 },
 "nbformat": 4,
 "nbformat_minor": 2
}
