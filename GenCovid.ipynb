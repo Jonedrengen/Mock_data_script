{
 "cells": [
  {
   "cell_type": "code",
   "execution_count": 4,
   "metadata": {},
   "outputs": [],
   "source": [
    "# generating covidID\n",
    "from faker import Faker\n",
    "from faker.providers import BaseProvider\n",
    "import random\n",
    "from HelperFunctions import *\n",
    "\n",
    "fake = Faker()\n",
    "\n",
    "\n",
    "#Class for generating covidID, based on the OrganismID column in the SequencedSample_data.csv\n",
    "class CovidIDProvider(BaseProvider):\n",
    "    def covidID(self):\n",
    "        fetched_IDs = Fetch_column_from_csv(\"SequencedSample_data.csv\", \"OrganismID\")\n",
    "        Covid_IDs = [ele for ele in fetched_IDs if ele.startswith(\"COVID-\")] # get all covid IDs\n",
    "        return Covid_IDs\n",
    "fake.add_provider(CovidIDProvider)\n"
   ]
  },
  {
   "cell_type": "code",
   "execution_count": 5,
   "metadata": {},
   "outputs": [],
   "source": [
    "# generating pango_designation\n",
    "\n",
    "class PangoDesignationProvider(BaseProvider):\n",
    "    def pango_designation(self) -> str:\n",
    "        designation = random.choice([\"B.1.1.7\", \"B.1.617.2\", \"BA.1\"]) #note: B.1.1.7 = Alpha, B.1.617.2 = Delta, BA.1 = Omicron\n",
    "        return designation\n",
    "fake.add_provider(PangoDesignationProvider)"
   ]
  },
  {
   "cell_type": "code",
   "execution_count": 6,
   "metadata": {},
   "outputs": [],
   "source": [
    "# generating WhoVariant\n",
    "\n",
    "# I want to generate a matching variant for each pango designation (e.g. B.1.1.7 = Alpha, B.1.617.2 = Delta, BA.1 = Omicron)\n",
    "class WhoVariantProvider(BaseProvider):\n",
    "    def Who_Variant(self, pango_designation: str) -> str:\n",
    "        variant_dict = {\n",
    "            \"B.1.1.7\" : \"Alpha\",\n",
    "            \"B.1.617.2\" : \"Delta\",\n",
    "            \"BA.1\" : \"Omicron\"\n",
    "        } \n",
    "        return variant_dict.get(pango_designation, \"No match found\")\n",
    "fake.add_provider(WhoVariantProvider)\n",
    "        "
   ]
  }
 ],
 "metadata": {
  "kernelspec": {
   "display_name": "env",
   "language": "python",
   "name": "python3"
  },
  "language_info": {
   "codemirror_mode": {
    "name": "ipython",
    "version": 3
   },
   "file_extension": ".py",
   "mimetype": "text/x-python",
   "name": "python",
   "nbconvert_exporter": "python",
   "pygments_lexer": "ipython3",
   "version": "3.11.5"
  },
  "orig_nbformat": 4
 },
 "nbformat": 4,
 "nbformat_minor": 2
}
